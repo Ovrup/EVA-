{
  "nbformat": 4,
  "nbformat_minor": 0,
  "metadata": {
    "kernelspec": {
      "display_name": "Python 3",
      "language": "python",
      "name": "python3"
    },
    "language_info": {
      "codemirror_mode": {
        "name": "ipython",
        "version": 3
      },
      "file_extension": ".py",
      "mimetype": "text/x-python",
      "name": "python",
      "nbconvert_exporter": "python",
      "pygments_lexer": "ipython3",
      "version": "3.6.8"
    },
    "varInspector": {
      "cols": {
        "lenName": 16,
        "lenType": 16,
        "lenVar": 40
      },
      "kernels_config": {
        "python": {
          "delete_cmd_postfix": "",
          "delete_cmd_prefix": "del ",
          "library": "var_list.py",
          "varRefreshCmd": "print(var_dic_list())"
        },
        "r": {
          "delete_cmd_postfix": ") ",
          "delete_cmd_prefix": "rm(",
          "library": "var_list.r",
          "varRefreshCmd": "cat(var_dic_list()) "
        }
      },
      "types_to_exclude": [
        "module",
        "function",
        "builtin_function_or_method",
        "instance",
        "_Feature"
      ],
      "window_display": false
    },
    "colab": {
      "name": "Assignment_19.ipynb",
      "provenance": []
    }
  },
  "cells": [
    {
      "cell_type": "code",
      "metadata": {
        "id": "NcVNH06glYdj",
        "colab_type": "code",
        "colab": {}
      },
      "source": [
        "import os\n",
        "import pandas\n",
        "import json\n",
        "from PIL import Image\n",
        "from IPython.display import display\n",
        "from kmeans import kmeans, avg_iou\n",
        "from matplotlib import pyplot as plt\n",
        "from sklearn.metrics import pairwise_distances_argmin"
      ],
      "execution_count": 0,
      "outputs": []
    },
    {
      "cell_type": "code",
      "metadata": {
        "id": "NsGZAQOJlYdp",
        "colab_type": "code",
        "colab": {}
      },
      "source": [
        "csv = pandas.read_csv('./EVA_annotation_csv.csv')"
      ],
      "execution_count": 0,
      "outputs": []
    },
    {
      "cell_type": "code",
      "metadata": {
        "id": "vtc6rWXwlYds",
        "colab_type": "code",
        "colab": {}
      },
      "source": [
        "def load_dataset(csv_file):\n",
        "    dataset = []\n",
        "    for row in csv.iterrows():\n",
        "        img = Image.open('./Face images/{}'.format(row[1]['filename']))\n",
        "        img_info = json.loads(row[1]['region_shape_attributes'])\n",
        "        width, height = img.size\n",
        "        xmin = img_info['x']\n",
        "        ymin = img_info['y']\n",
        "        xmax = xmin + img_info['width']\n",
        "        ymax = ymin + img_info['height']\n",
        "        # new values\n",
        "        xmin = xmin / width\n",
        "        ymin = ymin / height\n",
        "        xmax = xmax / width\n",
        "        ymax = ymax / height\n",
        "\n",
        "        dataset.append([xmax - xmin, ymax - ymin])\n",
        "    return np.array(dataset)\n",
        "\n",
        "\n",
        "def find_clusters(X, n_clusters, rseed=2):\n",
        "    # 1. Randomly choose clusters\n",
        "    rng = np.random.RandomState(rseed)\n",
        "    i = rng.permutation(X.shape[0])[:n_clusters]\n",
        "    centers = X[i]\n",
        "\n",
        "    while True:\n",
        "        # 2a. Assign labels based on closest center\n",
        "        labels = pairwise_distances_argmin(X, centers)\n",
        "\n",
        "        # 2b. Find new centers from means of points\n",
        "        new_centers = np.array(\n",
        "            [X[labels == i].mean(0) for i in range(n_clusters)])\n",
        "\n",
        "        # 2c. Check for convergence\n",
        "        if np.all(centers == new_centers):\n",
        "            break\n",
        "        centers = new_centers\n",
        "\n",
        "    return centers, labels"
      ],
      "execution_count": 0,
      "outputs": []
    },
    {
      "cell_type": "code",
      "metadata": {
        "id": "QSVibWdplYdv",
        "colab_type": "code",
        "colab": {}
      },
      "source": [
        "X = load_dataset(csv)"
      ],
      "execution_count": 0,
      "outputs": []
    },
    {
      "cell_type": "code",
      "metadata": {
        "id": "2MSBMvUilYdy",
        "colab_type": "code",
        "colab": {},
        "outputId": "1f2709f1-aa0a-4b93-f9f2-58da4bf14e42"
      },
      "source": [
        "centers, labels = find_clusters(X, 5)\n",
        "plt.scatter(X[:, 0], X[:, 1], c=labels,\n",
        "            s=50, cmap='viridis');"
      ],
      "execution_count": 0,
      "outputs": [
        {
          "output_type": "display_data",
          "data": {
            "image/png": "[encoded data removed]",
            "text/plain": [
              "<Figure size 432x288 with 1 Axes>"
            ]
          },
          "metadata": {
            "tags": []
          }
        }
      ]
    },
    {
      "cell_type": "code",
      "metadata": {
        "id": "NJ1wGNG7lYd3",
        "colab_type": "code",
        "colab": {}
      },
      "source": [
        ""
      ],
      "execution_count": 0,
      "outputs": []
    }
  ]
}