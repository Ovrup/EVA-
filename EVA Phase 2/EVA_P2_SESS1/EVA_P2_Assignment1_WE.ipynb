{
 "cells": [
  {
   "cell_type": "code",
   "execution_count": 1,
   "metadata": {},
   "outputs": [],
   "source": [
    "import os\n",
    "imdb_dir = '/home/trinanjan/Desktop/aclImdb/aclImdb'\n",
    "train_dir = os.path.join(imdb_dir, 'train')\n",
    "labels = []\n",
    "texts = []\n",
    "for label_type in ['neg', 'pos']:\n",
    "    dir_name = os.path.join(train_dir, label_type)\n",
    "    for fname in os.listdir(dir_name):\n",
    "        if fname[-4:] == '.txt':\n",
    "            f = open(os.path.join(dir_name, fname))\n",
    "            texts.append(f.read())\n",
    "            f.close()\n",
    "            if label_type == 'neg':\n",
    "                labels.append(0)\n",
    "            else:\n",
    "                labels.append(1)"
   ]
  },
  {
   "cell_type": "code",
   "execution_count": 2,
   "metadata": {},
   "outputs": [
    {
     "name": "stderr",
     "output_type": "stream",
     "text": [
      "Using TensorFlow backend.\n",
      "/usr/lib/python3/dist-packages/requests/__init__.py:80: RequestsDependencyWarning: urllib3 (1.25.7) or chardet (3.0.4) doesn't match a supported version!\n",
      "  RequestsDependencyWarning)\n"
     ]
    },
    {
     "name": "stdout",
     "output_type": "stream",
     "text": [
      "Found 88582 unique tokens.\n",
      "Shape of data tensor: (25000, 100)\n",
      "Shape of label tensor: (25000,)\n"
     ]
    }
   ],
   "source": [
    "from keras.preprocessing.text import Tokenizer\n",
    "from keras.preprocessing.sequence import pad_sequences\n",
    "import numpy as np\n",
    "maxlen = 100\n",
    "training_samples = 8000\n",
    "validation_samples = 10000\n",
    "max_words = 10000\n",
    "tokenizer = Tokenizer(num_words=max_words)\n",
    "tokenizer.fit_on_texts(texts)\n",
    "sequences = tokenizer.texts_to_sequences(texts)\n",
    "word_index = tokenizer.word_index\n",
    "print('Found %s unique tokens.' % len(word_index))\n",
    "data = pad_sequences(sequences, maxlen=maxlen)\n",
    "labels = np.asarray(labels)\n",
    "print('Shape of data tensor:', data.shape)\n",
    "print('Shape of label tensor:', labels.shape)\n",
    "indices = np.arange(data.shape[0])\n",
    "np.random.shuffle(indices)\n",
    "data = data[indices]\n",
    "labels = labels[indices]\n",
    "x_train = data[:training_samples]\n",
    "y_train = labels[:training_samples]\n",
    "x_val = data[training_samples: training_samples + validation_samples]\n",
    "y_val = labels[training_samples: training_samples + validation_samples]"
   ]
  },
  {
   "cell_type": "code",
   "execution_count": 3,
   "metadata": {},
   "outputs": [
    {
     "name": "stdout",
     "output_type": "stream",
     "text": [
      "Found 400000 word vectors.\n"
     ]
    }
   ],
   "source": [
    "import os\n",
    "glove_dir = '/home/trinanjan/Desktop/glove.6B'\n",
    "embeddings_index = {}\n",
    "f = open(os.path.join(glove_dir, 'glove.6B.100d.txt'))\n",
    "for line in f:\n",
    "    values = line.split()\n",
    "    word = values[0]\n",
    "    coefs = np.asarray(values[1:], dtype='float32')\n",
    "    embeddings_index[word] = coefs\n",
    "f.close()\n",
    "print('Found %s word vectors.' % len(embeddings_index))"
   ]
  },
  {
   "cell_type": "code",
   "execution_count": 4,
   "metadata": {},
   "outputs": [],
   "source": [
    "embedding_dim = 100\n",
    "embedding_matrix = np.zeros((max_words, embedding_dim))\n",
    "for word, i in word_index.items():\n",
    "    if i < max_words:\n",
    "        embedding_vector = embeddings_index.get(word)\n",
    "        if embedding_vector is not None:\n",
    "            embedding_matrix[i] = embedding_vector"
   ]
  },
  {
   "cell_type": "code",
   "execution_count": 5,
   "metadata": {},
   "outputs": [
    {
     "name": "stdout",
     "output_type": "stream",
     "text": [
      "WARNING:tensorflow:From /usr/lib/python3/dist-packages/keras/backend/tensorflow_backend.py:74: The name tf.get_default_graph is deprecated. Please use tf.compat.v1.get_default_graph instead.\n",
      "\n",
      "WARNING:tensorflow:From /usr/lib/python3/dist-packages/keras/backend/tensorflow_backend.py:517: The name tf.placeholder is deprecated. Please use tf.compat.v1.placeholder instead.\n",
      "\n",
      "WARNING:tensorflow:From /usr/lib/python3/dist-packages/keras/backend/tensorflow_backend.py:4138: The name tf.random_uniform is deprecated. Please use tf.random.uniform instead.\n",
      "\n",
      "_________________________________________________________________\n",
      "Layer (type)                 Output Shape              Param #   \n",
      "=================================================================\n",
      "embedding_1 (Embedding)      (None, 100, 100)          1000000   \n",
      "_________________________________________________________________\n",
      "flatten_1 (Flatten)          (None, 10000)             0         \n",
      "_________________________________________________________________\n",
      "dense_1 (Dense)              (None, 32)                320032    \n",
      "_________________________________________________________________\n",
      "dense_2 (Dense)              (None, 1)                 33        \n",
      "=================================================================\n",
      "Total params: 1,320,065\n",
      "Trainable params: 1,320,065\n",
      "Non-trainable params: 0\n",
      "_________________________________________________________________\n"
     ]
    }
   ],
   "source": [
    "from keras.models import Sequential\n",
    "from keras.layers import Embedding, Flatten, Dense\n",
    "model = Sequential()\n",
    "model.add(Embedding(max_words, embedding_dim, input_length=maxlen))\n",
    "model.add(Flatten())\n",
    "model.add(Dense(32, activation='relu'))\n",
    "model.add(Dense(1, activation='sigmoid'))\n",
    "model.summary()"
   ]
  },
  {
   "cell_type": "code",
   "execution_count": 6,
   "metadata": {},
   "outputs": [
    {
     "name": "stdout",
     "output_type": "stream",
     "text": [
      "WARNING:tensorflow:From /usr/lib/python3/dist-packages/keras/backend/tensorflow_backend.py:174: The name tf.get_default_session is deprecated. Please use tf.compat.v1.get_default_session instead.\n",
      "\n",
      "WARNING:tensorflow:From /usr/lib/python3/dist-packages/keras/backend/tensorflow_backend.py:181: The name tf.ConfigProto is deprecated. Please use tf.compat.v1.ConfigProto instead.\n",
      "\n",
      "WARNING:tensorflow:From /usr/lib/python3/dist-packages/keras/backend/tensorflow_backend.py:186: The name tf.Session is deprecated. Please use tf.compat.v1.Session instead.\n",
      "\n",
      "WARNING:tensorflow:From /usr/lib/python3/dist-packages/keras/backend/tensorflow_backend.py:190: The name tf.global_variables is deprecated. Please use tf.compat.v1.global_variables instead.\n",
      "\n",
      "WARNING:tensorflow:From /usr/lib/python3/dist-packages/keras/backend/tensorflow_backend.py:199: The name tf.is_variable_initialized is deprecated. Please use tf.compat.v1.is_variable_initialized instead.\n",
      "\n",
      "WARNING:tensorflow:From /usr/lib/python3/dist-packages/keras/backend/tensorflow_backend.py:206: The name tf.variables_initializer is deprecated. Please use tf.compat.v1.variables_initializer instead.\n",
      "\n"
     ]
    }
   ],
   "source": [
    "model.layers[0].set_weights([embedding_matrix])\n",
    "model.layers[0].trainable = False"
   ]
  },
  {
   "cell_type": "code",
   "execution_count": 7,
   "metadata": {},
   "outputs": [
    {
     "name": "stdout",
     "output_type": "stream",
     "text": [
      "WARNING:tensorflow:From /usr/lib/python3/dist-packages/keras/optimizers.py:790: The name tf.train.Optimizer is deprecated. Please use tf.compat.v1.train.Optimizer instead.\n",
      "\n",
      "WARNING:tensorflow:From /usr/lib/python3/dist-packages/keras/backend/tensorflow_backend.py:3376: The name tf.log is deprecated. Please use tf.math.log instead.\n",
      "\n",
      "WARNING:tensorflow:From /usr/lib/python3/dist-packages/tensorflow_core/python/ops/nn_impl.py:183: where (from tensorflow.python.ops.array_ops) is deprecated and will be removed in a future version.\n",
      "Instructions for updating:\n",
      "Use tf.where in 2.0, which has the same broadcast rule as np.where\n",
      "WARNING:tensorflow:From /usr/lib/python3/dist-packages/keras/backend/tensorflow_backend.py:986: The name tf.assign_add is deprecated. Please use tf.compat.v1.assign_add instead.\n",
      "\n",
      "WARNING:tensorflow:From /usr/lib/python3/dist-packages/keras/backend/tensorflow_backend.py:973: The name tf.assign is deprecated. Please use tf.compat.v1.assign instead.\n",
      "\n",
      "Train on 8000 samples, validate on 10000 samples\n",
      "Epoch 1/50\n",
      "8000/8000 [==============================] - 2s 297us/step - loss: 0.7085 - acc: 0.5809 - val_loss: 0.6617 - val_acc: 0.6577\n",
      "Epoch 2/50\n",
      "8000/8000 [==============================] - 2s 249us/step - loss: 0.6089 - acc: 0.6976 - val_loss: 0.6016 - val_acc: 0.6816\n",
      "Epoch 3/50\n",
      "8000/8000 [==============================] - 2s 248us/step - loss: 0.5056 - acc: 0.7668 - val_loss: 0.5926 - val_acc: 0.6875\n",
      "Epoch 4/50\n",
      "8000/8000 [==============================] - 2s 248us/step - loss: 0.4354 - acc: 0.8070 - val_loss: 0.5948 - val_acc: 0.6977\n",
      "Epoch 5/50\n",
      "8000/8000 [==============================] - 2s 259us/step - loss: 0.3815 - acc: 0.8394 - val_loss: 0.6054 - val_acc: 0.6976\n",
      "Epoch 6/50\n",
      "8000/8000 [==============================] - 2s 248us/step - loss: 0.3277 - acc: 0.8666 - val_loss: 0.6238 - val_acc: 0.6982\n",
      "Epoch 7/50\n",
      "8000/8000 [==============================] - 2s 256us/step - loss: 0.2775 - acc: 0.8934 - val_loss: 0.6644 - val_acc: 0.6959\n",
      "Epoch 8/50\n",
      "8000/8000 [==============================] - 2s 252us/step - loss: 0.2356 - acc: 0.9105 - val_loss: 0.7416 - val_acc: 0.6828\n",
      "Epoch 9/50\n",
      "8000/8000 [==============================] - 2s 256us/step - loss: 0.1970 - acc: 0.9296 - val_loss: 0.7566 - val_acc: 0.6890\n",
      "Epoch 10/50\n",
      "8000/8000 [==============================] - 2s 254us/step - loss: 0.1538 - acc: 0.9445 - val_loss: 1.0273 - val_acc: 0.6439\n",
      "Epoch 11/50\n",
      "8000/8000 [==============================] - 2s 257us/step - loss: 0.1269 - acc: 0.9572 - val_loss: 0.8603 - val_acc: 0.6890\n",
      "Epoch 12/50\n",
      "8000/8000 [==============================] - 2s 258us/step - loss: 0.0955 - acc: 0.9702 - val_loss: 0.9496 - val_acc: 0.6866\n",
      "Epoch 13/50\n",
      "8000/8000 [==============================] - 2s 258us/step - loss: 0.0722 - acc: 0.9794 - val_loss: 1.0382 - val_acc: 0.6812\n",
      "Epoch 14/50\n",
      "8000/8000 [==============================] - 2s 258us/step - loss: 0.0558 - acc: 0.9845 - val_loss: 1.1853 - val_acc: 0.6620\n",
      "Epoch 15/50\n",
      "8000/8000 [==============================] - 2s 259us/step - loss: 0.0373 - acc: 0.9915 - val_loss: 1.2479 - val_acc: 0.6787\n",
      "Epoch 16/50\n",
      "8000/8000 [==============================] - 2s 258us/step - loss: 0.0332 - acc: 0.9920 - val_loss: 1.2332 - val_acc: 0.6805\n",
      "Epoch 17/50\n",
      "8000/8000 [==============================] - 2s 296us/step - loss: 0.0280 - acc: 0.9919 - val_loss: 1.3005 - val_acc: 0.6820\n",
      "Epoch 18/50\n",
      "8000/8000 [==============================] - 2s 256us/step - loss: 0.0182 - acc: 0.9955 - val_loss: 1.4562 - val_acc: 0.6711\n",
      "Epoch 19/50\n",
      "8000/8000 [==============================] - 2s 257us/step - loss: 0.0238 - acc: 0.9934 - val_loss: 2.3823 - val_acc: 0.5897\n",
      "Epoch 20/50\n",
      "8000/8000 [==============================] - 2s 254us/step - loss: 0.0167 - acc: 0.9952 - val_loss: 1.5003 - val_acc: 0.6782\n",
      "Epoch 21/50\n",
      "8000/8000 [==============================] - 2s 267us/step - loss: 0.0102 - acc: 0.9964 - val_loss: 1.6009 - val_acc: 0.6760\n",
      "Epoch 22/50\n",
      "8000/8000 [==============================] - 2s 268us/step - loss: 0.0093 - acc: 0.9970 - val_loss: 1.6627 - val_acc: 0.6760\n",
      "Epoch 23/50\n",
      "8000/8000 [==============================] - 2s 248us/step - loss: 0.0070 - acc: 0.9979 - val_loss: 1.7419 - val_acc: 0.6673\n",
      "Epoch 24/50\n",
      "8000/8000 [==============================] - 2s 254us/step - loss: 0.0127 - acc: 0.9962 - val_loss: 1.7379 - val_acc: 0.6809\n",
      "Epoch 25/50\n",
      "8000/8000 [==============================] - 2s 253us/step - loss: 0.0121 - acc: 0.9945 - val_loss: 1.7978 - val_acc: 0.6800\n",
      "Epoch 26/50\n",
      "8000/8000 [==============================] - 2s 252us/step - loss: 0.0050 - acc: 0.9985 - val_loss: 1.8816 - val_acc: 0.6826\n",
      "Epoch 27/50\n",
      "8000/8000 [==============================] - 2s 256us/step - loss: 0.0060 - acc: 0.9981 - val_loss: 2.3730 - val_acc: 0.6630\n",
      "Epoch 28/50\n",
      "8000/8000 [==============================] - 2s 255us/step - loss: 0.0081 - acc: 0.9969 - val_loss: 1.9674 - val_acc: 0.6780\n",
      "Epoch 29/50\n",
      "8000/8000 [==============================] - 2s 277us/step - loss: 0.0084 - acc: 0.9976 - val_loss: 1.9985 - val_acc: 0.6802\n",
      "Epoch 30/50\n",
      "8000/8000 [==============================] - 2s 249us/step - loss: 0.0047 - acc: 0.9980 - val_loss: 2.0964 - val_acc: 0.6725\n",
      "Epoch 31/50\n",
      "8000/8000 [==============================] - 2s 299us/step - loss: 0.0029 - acc: 0.9991 - val_loss: 2.0816 - val_acc: 0.6773\n",
      "Epoch 32/50\n",
      "8000/8000 [==============================] - 2s 288us/step - loss: 0.0028 - acc: 0.9988 - val_loss: 2.1756 - val_acc: 0.6741\n",
      "Epoch 33/50\n",
      "8000/8000 [==============================] - 2s 267us/step - loss: 0.0057 - acc: 0.9983 - val_loss: 2.1694 - val_acc: 0.6760\n",
      "Epoch 34/50\n",
      "8000/8000 [==============================] - 2s 264us/step - loss: 0.0034 - acc: 0.9991 - val_loss: 2.2213 - val_acc: 0.6773\n",
      "Epoch 35/50\n",
      "8000/8000 [==============================] - 2s 274us/step - loss: 0.0047 - acc: 0.9988 - val_loss: 2.2844 - val_acc: 0.6752\n",
      "Epoch 36/50\n",
      "8000/8000 [==============================] - 2s 271us/step - loss: 0.0014 - acc: 0.9992 - val_loss: 2.3009 - val_acc: 0.6757\n",
      "Epoch 37/50\n",
      "8000/8000 [==============================] - 2s 267us/step - loss: 0.0019 - acc: 0.9992 - val_loss: 2.3355 - val_acc: 0.6737\n",
      "Epoch 38/50\n",
      "8000/8000 [==============================] - 2s 265us/step - loss: 0.0052 - acc: 0.9985 - val_loss: 2.3673 - val_acc: 0.6774\n",
      "Epoch 39/50\n",
      "8000/8000 [==============================] - 2s 266us/step - loss: 0.0040 - acc: 0.9986 - val_loss: 2.4074 - val_acc: 0.6736\n",
      "Epoch 40/50\n",
      "8000/8000 [==============================] - 2s 277us/step - loss: 0.0073 - acc: 0.9969 - val_loss: 2.4547 - val_acc: 0.6743\n",
      "Epoch 41/50\n",
      "8000/8000 [==============================] - 2s 270us/step - loss: 0.0045 - acc: 0.9989 - val_loss: 2.5093 - val_acc: 0.6676\n",
      "Epoch 42/50\n",
      "8000/8000 [==============================] - 2s 279us/step - loss: 0.0026 - acc: 0.9988 - val_loss: 2.4726 - val_acc: 0.6752\n",
      "Epoch 43/50\n",
      "8000/8000 [==============================] - 2s 286us/step - loss: 0.0014 - acc: 0.9994 - val_loss: 2.5488 - val_acc: 0.6705\n",
      "Epoch 44/50\n",
      "8000/8000 [==============================] - 2s 267us/step - loss: 8.9555e-04 - acc: 0.9996 - val_loss: 2.5153 - val_acc: 0.6758\n",
      "Epoch 45/50\n",
      "8000/8000 [==============================] - 2s 272us/step - loss: 3.1920e-04 - acc: 0.9999 - val_loss: 2.5175 - val_acc: 0.6738\n",
      "Epoch 46/50\n",
      "8000/8000 [==============================] - 2s 275us/step - loss: 0.0048 - acc: 0.9986 - val_loss: 2.5623 - val_acc: 0.6717\n",
      "Epoch 47/50\n",
      "8000/8000 [==============================] - 2s 274us/step - loss: 0.0014 - acc: 0.9995 - val_loss: 2.5762 - val_acc: 0.6748\n",
      "Epoch 48/50\n",
      "8000/8000 [==============================] - 2s 268us/step - loss: 0.0027 - acc: 0.9992 - val_loss: 2.6307 - val_acc: 0.6708\n",
      "Epoch 49/50\n",
      "8000/8000 [==============================] - 2s 265us/step - loss: 5.8761e-04 - acc: 0.9996 - val_loss: 2.6495 - val_acc: 0.6744\n",
      "Epoch 50/50\n",
      "8000/8000 [==============================] - 2s 266us/step - loss: 0.0014 - acc: 0.9996 - val_loss: 2.7827 - val_acc: 0.6684\n"
     ]
    }
   ],
   "source": [
    "model.compile(optimizer='rmsprop',loss='binary_crossentropy',metrics=['acc'])\n",
    "history = model.fit(x_train, y_train,epochs=50,batch_size=32,validation_data=(x_val, y_val))\n",
    "model.save_weights('pre_trained_glove_model.h5')"
   ]
  },
  {
   "cell_type": "code",
   "execution_count": 8,
   "metadata": {},
   "outputs": [
    {
     "data": {
      "image/png": "[encoded data removed]",
      "text/plain": [
       "<matplotlib.figure.Figure at 0x7f8090298be0>"
      ]
     },
     "metadata": {},
     "output_type": "display_data"
    },
    {
     "data": {
      "image/png": "[encoded data removed]",
      "text/plain": [
       "<matplotlib.figure.Figure at 0x7f7ff356d128>"
      ]
     },
     "metadata": {},
     "output_type": "display_data"
    }
   ],
   "source": [
    "import matplotlib.pyplot as plt\n",
    "%matplotlib inline\n",
    "acc = history.history['acc']\n",
    "val_acc = history.history['val_acc']\n",
    "loss = history.history['loss']\n",
    "val_loss = history.history['val_loss']\n",
    "epochs = range(1, len(acc) + 1)\n",
    "plt.plot(epochs, acc, 'bo', label='Training acc')\n",
    "plt.plot(epochs, val_acc, 'b', label='Validation acc')\n",
    "plt.title('Training and validation accuracy')\n",
    "plt.legend()\n",
    "plt.figure()\n",
    "plt.plot(epochs, loss, 'bo', label='Training loss')\n",
    "plt.plot(epochs, val_loss, 'b', label='Validation loss')\n",
    "plt.title('Training and validation loss')\n",
    "plt.legend()\n",
    "plt.show()"
   ]
  },
  {
   "cell_type": "code",
   "execution_count": null,
   "metadata": {},
   "outputs": [],
   "source": []
  }
 ],
 "metadata": {
  "kernelspec": {
   "display_name": "Python 3",
   "language": "python",
   "name": "python3"
  },
  "language_info": {
   "codemirror_mode": {
    "name": "ipython",
    "version": 3
   },
   "file_extension": ".py",
   "mimetype": "text/x-python",
   "name": "python",
   "nbconvert_exporter": "python",
   "pygments_lexer": "ipython3",
   "version": "3.6.9"
  }
 },
 "nbformat": 4,
 "nbformat_minor": 2
}
