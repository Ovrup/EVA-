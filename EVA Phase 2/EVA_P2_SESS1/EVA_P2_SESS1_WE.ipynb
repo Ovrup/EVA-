{
 "cells": [
  {
   "cell_type": "code",
   "execution_count": 19,
   "metadata": {},
   "outputs": [],
   "source": [
    "# All import goes here\n",
    "\n",
    "import os\n",
    "\n",
    "import keras\n",
    "import matplotlib.pyplot as plt\n",
    "%matplotlib inline\n",
    "import numpy as np\n",
    "from keras.layers import Dense, Embedding, Flatten\n",
    "from keras.models import Sequential\n",
    "from keras.preprocessing.sequence import pad_sequences\n",
    "from keras.preprocessing.text import Tokenizer"
   ]
  },
  {
   "cell_type": "code",
   "execution_count": 6,
   "metadata": {},
   "outputs": [],
   "source": [
    "# glove embs link : https://nlp.stanford.edu/projects/glove/\n",
    "# imdb data link : http://mng.bz/0tIo"
   ]
  },
  {
   "cell_type": "code",
   "execution_count": 7,
   "metadata": {},
   "outputs": [],
   "source": [
    "'''\n",
    "This block of code goes through the imdb dataset \n",
    "saves all the review paragraphs in a variable text \n",
    "and the corresponding label in labels variable\n",
    "'''\n",
    "\n",
    "imdb_dir = '/home/trinanjan/Desktop/aclImdb/aclImdb'\n",
    "train_dir = os.path.join(imdb_dir, 'train')\n",
    "labels = []\n",
    "texts = []\n",
    "for label_type in ['neg', 'pos']:\n",
    "    dir_name = os.path.join(train_dir, label_type)\n",
    "    for fname in os.listdir(dir_name):\n",
    "        if fname[-4:] == '.txt':\n",
    "            f = open(os.path.join(dir_name, fname))\n",
    "            texts.append(f.read())\n",
    "            f.close()\n",
    "            if label_type == 'neg':\n",
    "                labels.append(0)\n",
    "            else:\n",
    "                labels.append(1)"
   ]
  },
  {
   "cell_type": "code",
   "execution_count": 8,
   "metadata": {},
   "outputs": [
    {
     "name": "stdout",
     "output_type": "stream",
     "text": [
      "Found 88582 unique tokens.\n"
     ]
    }
   ],
   "source": [
    "maxlen = 100  # Cuts off reviews after 100 words\n",
    "training_samples = 8000  # Trains on 8000 samples\n",
    "validation_samples = 10000  # Validates on 10,000 samples\n",
    "max_words = 10000  # Considers only the top 10,000 words in the dataset\n",
    "tokenizer = Tokenizer(num_words=max_words)\n",
    "# TODO whats the num_word attribute for as word_index.items() lenght is not same as num_words\n",
    "\n",
    "# using keras inbuilt tokenizer\n",
    "'''\n",
    "fit_on_texts Updates internal vocabulary based on a list of texts.\n",
    "This method creates the vocabulary index based on word frequency. \n",
    "So if you give it something like, \"The cat sat on the mat.\" \n",
    "It will create a dictionary s.t. word_index[\"the\"] = 1; word_index[\"cat\"] = 2 \n",
    "it is word -> index dictionary so every word gets a unique integer value. 0 is reserved for padding. \n",
    "So lower integer means more frequent word (often the first few are stop words because they appear a lot).\n",
    "'''\n",
    "tokenizer.fit_on_texts(texts)\n",
    "\n",
    "# texts_to_sequences Transforms each text in texts to a sequence of integers\n",
    "sequences = tokenizer.texts_to_sequences(texts)\n",
    "\n",
    "word_index = tokenizer.word_index\n",
    "print('Found %s unique tokens.' % len(word_index))"
   ]
  },
  {
   "cell_type": "code",
   "execution_count": 9,
   "metadata": {},
   "outputs": [
    {
     "name": "stdout",
     "output_type": "stream",
     "text": [
      "Shape of data tensor: (25000, 100)\n",
      "Shape of label tensor: (25000,)\n"
     ]
    }
   ],
   "source": [
    "# so sequences that are shorter than others should be padded with zeros, and sequences\n",
    "# that are longer should be truncated\n",
    "data = pad_sequences(sequences, maxlen=maxlen)\n",
    "labels = np.asarray(labels)\n",
    "print('Shape of data tensor:', data.shape)\n",
    "print('Shape of label tensor:', labels.shape)"
   ]
  },
  {
   "cell_type": "code",
   "execution_count": 10,
   "metadata": {},
   "outputs": [],
   "source": [
    "'''\n",
    "Splits the data into a training set and a\n",
    "validation set, but first shuffles the data,\n",
    "because samples are ordered (all negative first, \n",
    "then all positive)\n",
    "'''\n",
    "indices = np.arange(data.shape[0])\n",
    "np.random.shuffle(indices)\n",
    "data = data[indices]\n",
    "labels = labels[indices]\n",
    "\n",
    "x_train = data[:training_samples]\n",
    "y_train = labels[:training_samples]\n",
    "x_val = data[training_samples: training_samples + validation_samples]\n",
    "y_val = labels[training_samples: training_samples + validation_samples]"
   ]
  },
  {
   "cell_type": "code",
   "execution_count": 11,
   "metadata": {},
   "outputs": [
    {
     "name": "stdout",
     "output_type": "stream",
     "text": [
      "Found 400000 word vectors.\n"
     ]
    }
   ],
   "source": [
    "'''\n",
    "good read glove : https://medium.com/@jonathan_hui/nlp-word-embedding-glove-5e7f523999f6\n",
    "glove is pretained word-vectors, glove is trained on huge data (dependng on the data trained we use different models)\n",
    "Using glove pretained weights we will set mature weights in our embedding layer\n",
    "\n",
    "Instead of learning word embeddings jointly with the problem you want to solve,\n",
    "you can load embedding vectors from a precomputed embedding space that you\n",
    "know is highly structured and exhibits useful properties—that captures generic\n",
    "aspects of language structure\n",
    "'''\n",
    "\n",
    "glove_dir = '/home/trinanjan/Desktop/glove.6B'\n",
    "embeddings_index = {}\n",
    "f = open(os.path.join(glove_dir, 'glove.6B.100d.txt'))\n",
    "for line in f:\n",
    "    values = line.split()\n",
    "    word = values[0]\n",
    "    coefs = np.asarray(values[1:], dtype='float32')\n",
    "    embeddings_index[word] = coefs\n",
    "f.close()\n",
    "print('Found %s word vectors.' % len(embeddings_index))"
   ]
  },
  {
   "cell_type": "code",
   "execution_count": 15,
   "metadata": {},
   "outputs": [],
   "source": [
    "'''\n",
    "Next, we’ll build an embedding matrix that we can load into an Embedding layer. It\n",
    "must be a matrix of shape (max_words, embedding_dim) , where each entry i contains\n",
    "the embedding_dim -dimensional vector for the word of index i in the reference word\n",
    "index (built during tokenization). Note that index 0 isn’t supposed to stand for any\n",
    "word or token—it’s a placeholder.\n",
    "'''\n",
    "embedding_dim = 100\n",
    "embedding_matrix = np.zeros((max_words, embedding_dim))\n",
    "for word, i in word_index.items():\n",
    "    if i < max_words:\n",
    "        embedding_vector = embeddings_index.get(word)\n",
    "        if embedding_vector is not None:\n",
    "            embedding_matrix[i] = embedding_vector"
   ]
  },
  {
   "cell_type": "code",
   "execution_count": 16,
   "metadata": {},
   "outputs": [
    {
     "name": "stdout",
     "output_type": "stream",
     "text": [
      "WARNING:tensorflow:From /usr/lib/python3/dist-packages/keras/backend/tensorflow_backend.py:74: The name tf.get_default_graph is deprecated. Please use tf.compat.v1.get_default_graph instead.\n",
      "\n",
      "WARNING:tensorflow:From /usr/lib/python3/dist-packages/keras/backend/tensorflow_backend.py:517: The name tf.placeholder is deprecated. Please use tf.compat.v1.placeholder instead.\n",
      "\n",
      "WARNING:tensorflow:From /usr/lib/python3/dist-packages/keras/backend/tensorflow_backend.py:4138: The name tf.random_uniform is deprecated. Please use tf.random.uniform instead.\n",
      "\n",
      "_________________________________________________________________\n",
      "Layer (type)                 Output Shape              Param #   \n",
      "=================================================================\n",
      "embedding_1 (Embedding)      (None, 100, 100)          1000000   \n",
      "_________________________________________________________________\n",
      "flatten_1 (Flatten)          (None, 10000)             0         \n",
      "_________________________________________________________________\n",
      "dense_1 (Dense)              (None, 32)                320032    \n",
      "_________________________________________________________________\n",
      "dense_2 (Dense)              (None, 1)                 33        \n",
      "=================================================================\n",
      "Total params: 1,320,065\n",
      "Trainable params: 1,320,065\n",
      "Non-trainable params: 0\n",
      "_________________________________________________________________\n"
     ]
    }
   ],
   "source": [
    "# model architecture to train\n",
    "model = Sequential()\n",
    "model.add(Embedding(max_words, embedding_dim, input_length=maxlen))\n",
    "model.add(Flatten())\n",
    "model.add(Dense(32, activation='relu'))\n",
    "model.add(Dense(1, activation='sigmoid'))\n",
    "model.summary()"
   ]
  },
  {
   "cell_type": "code",
   "execution_count": 17,
   "metadata": {},
   "outputs": [
    {
     "name": "stdout",
     "output_type": "stream",
     "text": [
      "WARNING:tensorflow:From /usr/lib/python3/dist-packages/keras/backend/tensorflow_backend.py:174: The name tf.get_default_session is deprecated. Please use tf.compat.v1.get_default_session instead.\n",
      "\n",
      "WARNING:tensorflow:From /usr/lib/python3/dist-packages/keras/backend/tensorflow_backend.py:181: The name tf.ConfigProto is deprecated. Please use tf.compat.v1.ConfigProto instead.\n",
      "\n",
      "WARNING:tensorflow:From /usr/lib/python3/dist-packages/keras/backend/tensorflow_backend.py:186: The name tf.Session is deprecated. Please use tf.compat.v1.Session instead.\n",
      "\n",
      "WARNING:tensorflow:From /usr/lib/python3/dist-packages/keras/backend/tensorflow_backend.py:190: The name tf.global_variables is deprecated. Please use tf.compat.v1.global_variables instead.\n",
      "\n",
      "WARNING:tensorflow:From /usr/lib/python3/dist-packages/keras/backend/tensorflow_backend.py:199: The name tf.is_variable_initialized is deprecated. Please use tf.compat.v1.is_variable_initialized instead.\n",
      "\n",
      "WARNING:tensorflow:From /usr/lib/python3/dist-packages/keras/backend/tensorflow_backend.py:206: The name tf.variables_initializer is deprecated. Please use tf.compat.v1.variables_initializer instead.\n",
      "\n"
     ]
    }
   ],
   "source": [
    "'''\n",
    "The Embedding layer has a single weight matrix: a 2D float matrix where each entry i is\n",
    "the word vector meant to be associated with index i. Simple enough. Let's Load the GloVe\n",
    "matrix we prepared into the Embedding layer, the first layer in the model.\n",
    "'''\n",
    "model.layers[0].set_weights([embedding_matrix])\n",
    "model.layers[0].trainable = False"
   ]
  },
  {
   "cell_type": "code",
   "execution_count": 18,
   "metadata": {},
   "outputs": [
    {
     "name": "stdout",
     "output_type": "stream",
     "text": [
      "WARNING:tensorflow:From /usr/lib/python3/dist-packages/keras/optimizers.py:790: The name tf.train.Optimizer is deprecated. Please use tf.compat.v1.train.Optimizer instead.\n",
      "\n",
      "WARNING:tensorflow:From /usr/lib/python3/dist-packages/keras/backend/tensorflow_backend.py:3376: The name tf.log is deprecated. Please use tf.math.log instead.\n",
      "\n",
      "WARNING:tensorflow:From /usr/lib/python3/dist-packages/tensorflow_core/python/ops/nn_impl.py:183: where (from tensorflow.python.ops.array_ops) is deprecated and will be removed in a future version.\n",
      "Instructions for updating:\n",
      "Use tf.where in 2.0, which has the same broadcast rule as np.where\n",
      "WARNING:tensorflow:From /usr/lib/python3/dist-packages/keras/backend/tensorflow_backend.py:986: The name tf.assign_add is deprecated. Please use tf.compat.v1.assign_add instead.\n",
      "\n",
      "WARNING:tensorflow:From /usr/lib/python3/dist-packages/keras/backend/tensorflow_backend.py:973: The name tf.assign is deprecated. Please use tf.compat.v1.assign instead.\n",
      "\n",
      "Train on 8000 samples, validate on 10000 samples\n",
      "Epoch 1/20\n",
      "8000/8000 [==============================] - 2s 296us/step - loss: 0.6939 - acc: 0.5926 - val_loss: 0.6047 - val_acc: 0.6833\n",
      "Epoch 2/20\n",
      "8000/8000 [==============================] - 2s 280us/step - loss: 0.5585 - acc: 0.7183 - val_loss: 0.6374 - val_acc: 0.6533\n",
      "Epoch 3/20\n",
      "8000/8000 [==============================] - 2s 285us/step - loss: 0.4776 - acc: 0.7721 - val_loss: 0.5864 - val_acc: 0.6978\n",
      "Epoch 4/20\n",
      "8000/8000 [==============================] - 2s 253us/step - loss: 0.4077 - acc: 0.8193 - val_loss: 0.6343 - val_acc: 0.6868\n",
      "Epoch 5/20\n",
      "8000/8000 [==============================] - 2s 282us/step - loss: 0.3467 - acc: 0.8518 - val_loss: 0.6195 - val_acc: 0.7005\n",
      "Epoch 6/20\n",
      "8000/8000 [==============================] - 2s 267us/step - loss: 0.2945 - acc: 0.8767 - val_loss: 0.7216 - val_acc: 0.6850\n",
      "Epoch 7/20\n",
      "8000/8000 [==============================] - 2s 258us/step - loss: 0.2422 - acc: 0.9064 - val_loss: 0.9072 - val_acc: 0.6519\n",
      "Epoch 8/20\n",
      "8000/8000 [==============================] - 2s 260us/step - loss: 0.2011 - acc: 0.9179 - val_loss: 0.8217 - val_acc: 0.6920\n",
      "Epoch 9/20\n",
      "8000/8000 [==============================] - 2s 261us/step - loss: 0.1587 - acc: 0.9386 - val_loss: 0.9023 - val_acc: 0.6792\n",
      "Epoch 10/20\n",
      "8000/8000 [==============================] - 2s 264us/step - loss: 0.1229 - acc: 0.9564 - val_loss: 1.1327 - val_acc: 0.6629\n",
      "Epoch 11/20\n",
      "8000/8000 [==============================] - 2s 262us/step - loss: 0.0960 - acc: 0.9671 - val_loss: 1.0414 - val_acc: 0.6891\n",
      "Epoch 12/20\n",
      "8000/8000 [==============================] - 2s 261us/step - loss: 0.0779 - acc: 0.9748 - val_loss: 1.0727 - val_acc: 0.6839\n",
      "Epoch 13/20\n",
      "8000/8000 [==============================] - 2s 261us/step - loss: 0.0613 - acc: 0.9795 - val_loss: 1.2016 - val_acc: 0.6861\n",
      "Epoch 14/20\n",
      "8000/8000 [==============================] - 2s 257us/step - loss: 0.0449 - acc: 0.9861 - val_loss: 1.2677 - val_acc: 0.6860\n",
      "Epoch 15/20\n",
      "8000/8000 [==============================] - 2s 256us/step - loss: 0.0388 - acc: 0.9884 - val_loss: 1.3546 - val_acc: 0.6812\n",
      "Epoch 16/20\n",
      "8000/8000 [==============================] - 2s 276us/step - loss: 0.0383 - acc: 0.9880 - val_loss: 1.4745 - val_acc: 0.6841\n",
      "Epoch 17/20\n",
      "8000/8000 [==============================] - 2s 256us/step - loss: 0.0306 - acc: 0.9923 - val_loss: 1.5235 - val_acc: 0.6836\n",
      "Epoch 18/20\n",
      "8000/8000 [==============================] - 2s 242us/step - loss: 0.0219 - acc: 0.9935 - val_loss: 1.6715 - val_acc: 0.6754\n",
      "Epoch 19/20\n",
      "8000/8000 [==============================] - 2s 245us/step - loss: 0.0265 - acc: 0.9914 - val_loss: 1.6086 - val_acc: 0.6793\n",
      "Epoch 20/20\n",
      "8000/8000 [==============================] - 2s 241us/step - loss: 0.0218 - acc: 0.9926 - val_loss: 1.6900 - val_acc: 0.6839\n"
     ]
    }
   ],
   "source": [
    "# compile and train the model\n",
    "model.compile(optimizer='rmsprop', loss='binary_crossentropy', metrics=['acc'])\n",
    "history = model.fit(x_train,\n",
    "                    y_train,\n",
    "                    epochs=20,\n",
    "                    batch_size=32,\n",
    "                    validation_data=(x_val, y_val))\n",
    "model.save_weights('pre_trained_glove_model.h5')"
   ]
  },
  {
   "cell_type": "code",
   "execution_count": 20,
   "metadata": {},
   "outputs": [
    {
     "data": {
      "image/png": "[encoded data removed]",
      "text/plain": [
       "<matplotlib.figure.Figure at 0x7fd66c0be4a8>"
      ]
     },
     "metadata": {},
     "output_type": "display_data"
    },
    {
     "data": {
      "image/png": "[encoded data removed]",
      "text/plain": [
       "<matplotlib.figure.Figure at 0x7fd66c09b0b8>"
      ]
     },
     "metadata": {},
     "output_type": "display_data"
    }
   ],
   "source": [
    "acc = history.history['acc']\n",
    "val_acc = history.history['val_acc']\n",
    "loss = history.history['loss']\n",
    "val_loss = history.history['val_loss']\n",
    "epochs = range(1, len(acc) + 1)\n",
    "plt.plot(epochs, acc, 'bo', label='Training acc')\n",
    "plt.plot(epochs, val_acc, 'b', label='Validation acc')\n",
    "plt.title('Training and validation accuracy')\n",
    "plt.legend()\n",
    "plt.figure()\n",
    "plt.plot(epochs, loss, 'bo', label='Training loss')\n",
    "plt.plot(epochs, val_loss, 'b', label='Validation loss')\n",
    "plt.title('Training and validation loss')\n",
    "plt.legend()\n",
    "plt.show()"
   ]
  },
  {
   "cell_type": "code",
   "execution_count": null,
   "metadata": {},
   "outputs": [],
   "source": []
  }
 ],
 "metadata": {
  "kernelspec": {
   "display_name": "Python 3",
   "language": "python",
   "name": "python3"
  },
  "language_info": {
   "codemirror_mode": {
    "name": "ipython",
    "version": 3
   },
   "file_extension": ".py",
   "mimetype": "text/x-python",
   "name": "python",
   "nbconvert_exporter": "python",
   "pygments_lexer": "ipython3",
   "version": "3.6.9"
  }
 },
 "nbformat": 4,
 "nbformat_minor": 2
}
